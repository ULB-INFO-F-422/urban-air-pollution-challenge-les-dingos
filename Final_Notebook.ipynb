{
 "cells": [
  {
   "cell_type": "markdown",
   "id": "f51e4af1-f39f-40cf-8f70-2ece0a74d81e",
   "metadata": {},
   "source": [
    "# INFO-F-422 Project 23-24 : Zindi: - Urban Air Pollution Challenge - "
   ]
  },
  {
   "cell_type": "markdown",
   "id": "2fd5f498-db42-4790-870e-b62a632ec13b",
   "metadata": {},
   "source": [
    "## Description of the Project"
   ]
  },
  {
   "cell_type": "markdown",
   "id": "d21a2e5e-59c7-43c9-a28c-a0ece6c2ac61",
   "metadata": {},
   "source": []
  },
  {
   "cell_type": "markdown",
   "id": "639e4e44-c952-41e8-ab9d-4fae3fc23264",
   "metadata": {},
   "source": [
    "### Problem"
   ]
  },
  {
   "cell_type": "markdown",
   "id": "b77c0db5-7273-4323-b1f5-b636137fcc53",
   "metadata": {},
   "source": []
  },
  {
   "cell_type": "markdown",
   "id": "e82445a0-461f-4e08-b820-336404535108",
   "metadata": {},
   "source": [
    "### Data"
   ]
  },
  {
   "cell_type": "markdown",
   "id": "f9afae49-b9f5-4e96-b6aa-66129293a74b",
   "metadata": {},
   "source": []
  },
  {
   "cell_type": "markdown",
   "id": "cf2208c3-b278-468a-a621-bb411659796e",
   "metadata": {},
   "source": [
    "### scoring metric"
   ]
  },
  {
   "cell_type": "markdown",
   "id": "ad06d0ec-8ea9-4560-9375-5bf434d6a3ea",
   "metadata": {},
   "source": []
  },
  {
   "cell_type": "markdown",
   "id": "bf2cfe18-ddb6-4322-b748-99a89e167e50",
   "metadata": {},
   "source": [
    "## Tasks"
   ]
  },
  {
   "cell_type": "markdown",
   "id": "2d00a1c4-75da-4ef8-a4a7-fd3c9d587ce0",
   "metadata": {},
   "source": [
    "### Packages"
   ]
  },
  {
   "cell_type": "code",
   "execution_count": 2,
   "id": "16551485-60b3-48a6-85ab-c480e24b7f1a",
   "metadata": {},
   "outputs": [],
   "source": [
    "library(dplyr)\n",
    "library(randomForest)\n",
    "library(ggplot2)\n",
    "library(RSNNS)\n",
    "library(e1071)\n",
    "library(xgboost)\n",
    "library(keras)\n",
    "library(repr)\n",
    "library(caret)\n",
    "library(lubridate)\n",
    "library(VIM)\n",
    "library(lightgbm)\n",
    "\n",
    "options(repr.matrix.max.cols=500, repr.matrix.max.rows=200)\n",
    "#set.seed(42)"
   ]
  },
  {
   "cell_type": "markdown",
   "id": "9c8bbcd2-6c54-48d5-aa70-6a115065909e",
   "metadata": {},
   "source": [
    "### 1. Pipeline\n",
    "This section will contain a few functions that can be called to modify, complete or create new features.`\n",
    "\n",
    "These Functions can then after be called easilly to try different combinations."
   ]
  },
  {
   "cell_type": "markdown",
   "id": "e49405ff-7a5f-45bb-92f3-f3afd69528eb",
   "metadata": {},
   "source": [
    "#### Data importation & Feature selection"
   ]
  },
  {
   "cell_type": "markdown",
   "id": "0c167b11-2e4a-4ec1-a0cc-1282f6b3f6e3",
   "metadata": {},
   "source": [
    "2 simple functions that helps getting a clean data easilly for each model"
   ]
  },
  {
   "cell_type": "code",
   "execution_count": 3,
   "id": "4908415b-2aab-4325-a1d4-3db387934d09",
   "metadata": {},
   "outputs": [],
   "source": [
    "get_train_data <- function() {\n",
    "    train_df <- read.csv(\"Data/Train.csv\")\n",
    "    train_df <- train_df %>% \n",
    "        select(-\"target_min\", -\"target_max\",-\"target_variance\",-\"target_count\")\n",
    "    return(train_df)\n",
    "}"
   ]
  },
  {
   "cell_type": "code",
   "execution_count": 4,
   "id": "d5753a00-2be1-4005-afbc-e63edca7c6ce",
   "metadata": {},
   "outputs": [],
   "source": [
    "get_test_data <- function() {\n",
    "    train_df <- read.csv(\"Data/Test.csv\")\n",
    "    return(train_df)\n",
    "}"
   ]
  },
  {
   "cell_type": "markdown",
   "id": "df2c0307-cb37-4c96-8994-687472cfe836",
   "metadata": {},
   "source": [
    "#### Missing value imputation"
   ]
  },
  {
   "cell_type": "markdown",
   "id": "15423a0a-59d2-45c5-9ffd-962a3f4ee892",
   "metadata": {},
   "source": [
    "Different methods that can be applied to the data in order avoid keeping empty data in the datasets.\n",
    "1. This method simply deletes all columns containing nan's and keeps only the ones that are complete. This method is quite drastic and reduces a lot our dataset.\n",
    "2. The second method will tranform all the nan's in the data by the mean of that column. This allows to keep all the original data.\n",
    "3. The third method will tranform all the nan's in the data by the median of that column. This allows to keep all the original data.\n",
    "4. The fourth method will tranform all the nan's in the data by the median of that column but grouped for each station. alowing us to keep all the data and also laverage the information of the median of the area."
   ]
  },
  {
   "cell_type": "code",
   "execution_count": 5,
   "id": "93bd68e0-0a4b-453e-a31d-027e0415bae0",
   "metadata": {},
   "outputs": [],
   "source": [
    "# Drop na's\n",
    "drop_na <- function(data) {\n",
    "    data_clean <- data[, colSums(is.na(data)) == 0]\n",
    "    return(data_clean)\n",
    "}"
   ]
  },
  {
   "cell_type": "code",
   "execution_count": 6,
   "id": "0ca2c9d8-b6ec-46b3-b3a2-614304fcecae",
   "metadata": {},
   "outputs": [],
   "source": [
    "# Replace na's by mean\n",
    "na_to_mean <- function(data) {\n",
    "    data_clean <- data %>%\n",
    "        mutate(across(everything(), ~ifelse(is.na(.), mean(., na.rm = TRUE), .)))\n",
    "    return(data_clean)\n",
    "}"
   ]
  },
  {
   "cell_type": "code",
   "execution_count": 7,
   "id": "78b0383f-a724-492b-8b2f-a8589103f211",
   "metadata": {},
   "outputs": [],
   "source": [
    "# Replace na's by median\n",
    "na_to_median <- function(data) {\n",
    "    data_clean <- data %>%\n",
    "        mutate(across(everything(), ~ifelse(is.na(.), median(., na.rm = TRUE), .)))\n",
    "    return(data_clean)\n",
    "}"
   ]
  },
  {
   "cell_type": "code",
   "execution_count": 8,
   "id": "a76e659f-570c-462c-8d7b-c3ef80b65c9a",
   "metadata": {},
   "outputs": [],
   "source": [
    "# Replace NA's by the median by Place_ID\n",
    "na_to_median_by_location <- function(data) {\n",
    "    # Step 1: Replace NA's within each Place_ID group\n",
    "    data_clean <- data %>%\n",
    "        group_by(Place_ID) %>%\n",
    "        mutate(across(where(is.numeric), ~ifelse(is.na(.), median(., na.rm = TRUE), .))) %>%\n",
    "        ungroup()\n",
    "\n",
    "    # Step 2: Calculate global medians for each numeric column\n",
    "    global_medians <- data %>%\n",
    "        summarize(across(where(is.numeric), median, na.rm = TRUE)) %>%\n",
    "        unlist()\n",
    "    \n",
    "    # Step 3: Replace remaining NA's with global medians\n",
    "    data_clean <- data_clean %>%\n",
    "        mutate(across(where(is.numeric), ~ifelse(is.na(.), global_medians[cur_column()], .)))\n",
    "\n",
    "    return(data_clean)\n",
    "}\n"
   ]
  },
  {
   "cell_type": "markdown",
   "id": "f417168b-0b59-441b-8e21-6afbd950ca53",
   "metadata": {},
   "source": [
    "#### Normalization"
   ]
  },
  {
   "cell_type": "markdown",
   "id": "11abd317-b664-48d5-b249-44500128d657",
   "metadata": {},
   "source": [
    "That function will normalize the whole dataset pet column. (the function scale will also be used later)"
   ]
  },
  {
   "cell_type": "code",
   "execution_count": 9,
   "id": "e24d1d11-d12a-4b08-b833-bf50a39c3578",
   "metadata": {},
   "outputs": [],
   "source": [
    "#Function that will normalize all the columns\n",
    "normalize <- function(x) {\n",
    "  (x - min(x, na.rm = TRUE)) / (max(x, na.rm = TRUE) - min(x, na.rm = TRUE))\n",
    "}"
   ]
  },
  {
   "cell_type": "markdown",
   "id": "3c9eda2a-e79f-4fab-ad7b-8ad5aa990537",
   "metadata": {},
   "source": [
    "#### Feature engineering"
   ]
  },
  {
   "cell_type": "code",
   "execution_count": 10,
   "id": "d95250e8-da5f-4738-b793-ea6d9df5fdb6",
   "metadata": {},
   "outputs": [],
   "source": [
    "# Add columns for day, mounth, year, day of the week and if it is weekend or not.\n",
    "add_time <- function(data) {\n",
    "    data <- data %>%\n",
    "        mutate(day = day(Date),\n",
    "               month = month(Date),\n",
    "               day_of_week = wday(Date),\n",
    "               s_weekend = as.integer(wday(Date) %in% c(6, 7)))\n",
    "    data <- data %>%\n",
    "        group_by(Place_ID) %>%\n",
    "        mutate(placeID_freq = n()) %>%\n",
    "        ungroup()\n",
    "\n",
    "    return(data)\n",
    "}"
   ]
  },
  {
   "cell_type": "code",
   "execution_count": 11,
   "id": "76fc1f0f-48b1-4fca-99b5-040d2903ee89",
   "metadata": {},
   "outputs": [],
   "source": [
    "# Function to add lag, lead of all the columns enabeling it to see what was before and after\n",
    "add_lag_lead <- function(data, days) {\n",
    "    # Features: Excluding specific columns from the dataset\n",
    "    features <- setdiff(names(data), c(\"Date\", \"target_count\", \"target_min\", \"Place_ID X Date\", \"target_variance\", \"target_max\", \"Place_ID.X.Date\", \"target\"))\n",
    "    \n",
    "    numeric_features <- sapply(data, is.numeric)\n",
    "    features <- names(numeric_features[numeric_features == TRUE])\n",
    "    features <- setdiff(features, c(\"target\", \"Place_ID.X.Date\", \"Date\"))\n",
    "    \n",
    "    # Wrap operations in a group_by() without arranging\n",
    "    data <- data %>%\n",
    "        group_by(Place_ID) %>%\n",
    "        mutate(across(all_of(features), ~lag(.x, 1), .names = \"prev_{.col}_1\"),\n",
    "               across(all_of(features), ~lead(.x, 1), .names = \"next_{.col}_1\")) %>%\n",
    "        ungroup()  # Return to regular data frame operation without groups\n",
    "    \n",
    "    # Now create the difference features\n",
    "    for (i in 1:days) {\n",
    "        # Creating difference features for lag\n",
    "        data <- data %>%\n",
    "            group_by(Place_ID) %>%\n",
    "            mutate(across(all_of(features), ~. - lag(., i), .names = paste0(\"prev_{.col}_\", i+1))) %>%\n",
    "            ungroup()\n",
    "        \n",
    "        # Creating difference features for lead\n",
    "        data <- data %>%\n",
    "            group_by(Place_ID) %>%\n",
    "            mutate(across(all_of(features), ~. - lead(., i), .names = paste0(\"next_{.col}_\", i+1))) %>%\n",
    "            ungroup()\n",
    "    }\n",
    "    \n",
    "    # Replace NA values in numeric columns with 0\n",
    "    numeric_columns <- sapply(data, is.numeric)\n",
    "    data[numeric_columns] <- lapply(data[numeric_columns], function(x) replace(x, is.na(x), 0))\n",
    "    \n",
    "    return(data)\n",
    "}\n"
   ]
  },
  {
   "cell_type": "markdown",
   "id": "dba44773-9e35-4185-86e2-cd6d9ea86484",
   "metadata": {},
   "source": [
    "#### Divide train / validation set"
   ]
  },
  {
   "cell_type": "code",
   "execution_count": 12,
   "id": "018c576a-1731-4488-9166-c348719dfacc",
   "metadata": {},
   "outputs": [],
   "source": [
    "# randomise stations in train and val by grouping the Place_ID's\n",
    "# This allows to not overfit with the test data that doesn't contain similar Place_ID's as the training data.\n",
    "get_train_val_by_station <- function(data,rep) {\n",
    "    unique_place_ids <- unique(data$Place_ID)\n",
    "    shuffled_place_ids <- sample(unique_place_ids)\n",
    "    unique_place_ids <- unique(data$Place_ID)\n",
    "    shuffled_place_ids <- sample(unique_place_ids)\n",
    "    num_train <- round(length(shuffled_place_ids) * rep)\n",
    "    train_ids <- shuffled_place_ids[1:num_train]\n",
    "    val_ids <- shuffled_place_ids[(num_train + 1):length(shuffled_place_ids)]\n",
    "    train <- data[data$Place_ID %in% train_ids, ] %>% \n",
    "      select(-\"Place_ID\")\n",
    "    val <- data[data$Place_ID %in% val_ids, ] %>% \n",
    "      select(-\"Place_ID\")\n",
    "    return(list(train = train, val = val))\n",
    "}\n",
    "\n",
    "# Unfortunatly this method when applied seemed to give worse results compared to the normal random division.\n",
    "# This is why in the next steps only the normal random division will be used."
   ]
  },
  {
   "cell_type": "code",
   "execution_count": 13,
   "id": "e82a2b38-eba3-478c-881a-fc83a45de6e3",
   "metadata": {},
   "outputs": [],
   "source": [
    "# Random attiribution of each line to train or val. this will give us a bigger difference between the val score and the test \n",
    "# score beceause no station will be in commun.\n",
    "get_train_val <- function(data, rep) {\n",
    "    shuffled_indices <- sample(nrow(data))\n",
    "    num_train <- round(nrow(data) * rep)\n",
    "    train_indices <- shuffled_indices[1:num_train]\n",
    "    val_indices <- shuffled_indices[(num_train + 1):nrow(data)]\n",
    "    train <- data[train_indices, ] %>% \n",
    "      select(-\"Place_ID\")\n",
    "    val <- data[val_indices, ] %>% \n",
    "      select(-\"Place_ID\")\n",
    "    return(list(train = train, val = val))\n",
    "}"
   ]
  },
  {
   "cell_type": "markdown",
   "id": "d38c43f0-4a8b-4a30-b3ed-5e11afabb4ea",
   "metadata": {},
   "source": [
    "#### Configuration grid example\n",
    "This allows to decide for each test which missing value imputation, normalization, feature engeneering and train_val repartition to use"
   ]
  },
  {
   "cell_type": "code",
   "execution_count": 98,
   "id": "54e1a69c-e785-4303-a658-1822f905c8ea",
   "metadata": {},
   "outputs": [],
   "source": [
    "train = get_train_data()\n",
    "test = get_test_data()\n",
    "data <- bind_rows(train, test)\n",
    "data <- na_to_median_by_location(data)\n",
    "data <- add_time(data)\n",
    "# data <- add_lag_lead(data,10)\n",
    "features <- setdiff(names(data), c(\"Date\", \"Place_ID X Date\",\"Place_ID.X.Date\"))\n",
    "train_data <- data[1:nrow(train), features, drop = FALSE]\n",
    "test_data <- data[(nrow(train) + 1):nrow(data), features, drop = FALSE]\n",
    "data_train_val <- get_train_val(train_data ,0.8)"
   ]
  },
  {
   "cell_type": "markdown",
   "id": "33557cf1-87ee-4eca-979f-d074518b5743",
   "metadata": {},
   "source": [
    "#### Plot repartition of the data"
   ]
  },
  {
   "cell_type": "code",
   "execution_count": 99,
   "id": "3045fdf2-d8de-4095-a415-b24cd1984a6b",
   "metadata": {},
   "outputs": [
    {
     "data": {
      "image/png": "[encoded data removed]",
      "text/plain": [
       "plot without title"
      ]
     },
     "metadata": {
      "image/png": {
       "height": 120,
       "width": 600
      }
     },
     "output_type": "display_data"
    }
   ],
   "source": [
    "partition_sizes <- data.frame(\n",
    "  Partition = c(\"Train\", \"Validation\", \"Test\"),\n",
    "  Size = c(nrow(data_train_val$train), nrow(data_train_val$val), nrow(test_data))\n",
    ")\n",
    "\n",
    "# Plot the partition sizes\n",
    "options(repr.plot.width = 10, repr.plot.height = 2)\n",
    "ggplot(partition_sizes, aes(x = \"\", y = Size, fill = Partition)) +\n",
    "  geom_bar(stat = \"identity\", width = 1) +\n",
    "  coord_flip() +\n",
    "  geom_text(aes(label = Size), position = position_stack(vjust = 0.5)) +\n",
    "  theme_minimal() +\n",
    "  labs(title = \"Data Partition Sizes\", x = NULL, y = NULL) +\n",
    "  scale_fill_manual(values = c(\"Train\" = \"cornflowerblue\", \"Validation\" = \"coral\", \"Test\" = \"darkolivegreen3\")) +\n",
    "  theme(\n",
    "    axis.ticks = element_blank(), \n",
    "    axis.text.y = element_blank(),\n",
    "    aspect.ratio = 1/10 # Adjust the aspect ratio to make the plot shorter\n",
    "  )"
   ]
  },
  {
   "cell_type": "markdown",
   "id": "1e0b05bc-3b61-46a2-a650-030fa3ba8b1f",
   "metadata": {},
   "source": [
    "### 2. Model selection"
   ]
  },
  {
   "cell_type": "markdown",
   "id": "98632a2d-6512-480c-b679-593df309fd82",
   "metadata": {},
   "source": [
    "#### Data preparation for all models"
   ]
  },
  {
   "cell_type": "markdown",
   "id": "b2620aee-d514-46f9-a0f8-befe665afe8e",
   "metadata": {},
   "source": [
    "###### Input configuration"
   ]
  },
  {
   "cell_type": "code",
   "execution_count": 16,
   "id": "1aadee3a-e553-4344-b69d-f2b41586495b",
   "metadata": {},
   "outputs": [],
   "source": [
    "train = get_train_data()\n",
    "test = get_test_data()\n",
    "data <- bind_rows(train, test)\n",
    "data <- na_to_median_by_location(data)\n",
    "data <- add_time(data)\n",
    "#data <- add_lag_lead(data,10)\n",
    "features <- setdiff(names(data), c(\"Date\", \"Place_ID.X.Date\"))\n",
    "train_data <- data[1:nrow(train), features, drop = FALSE]\n",
    "test_data <- data[(nrow(train) + 1):nrow(data), features, drop = FALSE]\n",
    "data_train_val <- get_train_val(train_data ,0.8)"
   ]
  },
  {
   "cell_type": "code",
   "execution_count": 17,
   "id": "52c7c8b9-c510-4fd6-83c9-94278fce45ee",
   "metadata": {},
   "outputs": [],
   "source": [
    "train_x <- data_train_val$train %>% select(-c(target)) %>% as.matrix()\n",
    "train_y <- data_train_val$train$target\n",
    "\n",
    "val_x <- data_train_val$val %>% select(-target) %>% as.matrix()\n",
    "val_y <- data_train_val$val$target\n",
    "\n",
    "# Normalize the features (if necessary)\n",
    "train_x_norm <- scale(train_x)\n",
    "val_x_norm <- scale(val_x)"
   ]
  },
  {
   "cell_type": "markdown",
   "id": "ef91d51d-8b03-4150-9a73-fbdb66b1c6b4",
   "metadata": {},
   "source": [
    "#### Neural Network"
   ]
  },
  {
   "cell_type": "code",
   "execution_count": 18,
   "id": "e467e73d-4a2c-4f27-8455-5778a4cffc2b",
   "metadata": {},
   "outputs": [
    {
     "name": "stdout",
     "output_type": "stream",
     "text": [
      "[1] \"RMSE:  32.3823375388647\"\n"
     ]
    }
   ],
   "source": [
    "create_nn_model <- function(input_shape) {\n",
    "  nn_model <- keras_model_sequential() %>%\n",
    "    layer_dense(units = 128, activation = 'relu', input_shape = input_shape) %>%\n",
    "    layer_dense(units = 128, activation = 'relu') %>%\n",
    "    layer_dense(units = 128, activation = 'relu') %>%\n",
    "    layer_dense(units = 128, activation = 'relu') %>%\n",
    "    layer_dense(units = 128, activation = 'relu') %>%\n",
    "    layer_dense(units = 1)\n",
    "  \n",
    "  nn_model %>% compile(\n",
    "    loss = 'mse',  # Mean Squared Error for regression\n",
    "    optimizer = 'adam',  # Adaptive moment estimation\n",
    "    metrics = c('mean_absolute_error')\n",
    "  )\n",
    "  \n",
    "  return(nn_model)\n",
    "}\n",
    "\n",
    "# Create the model\n",
    "input_shape <- ncol(train_x)\n",
    "model <- create_nn_model(input_shape)\n",
    "\n",
    "# Train the model\n",
    "history <- model %>% fit(\n",
    "  train_x_norm, train_y,\n",
    "  epochs = 1000,\n",
    "  batch_size = 32,\n",
    "  validation_split = 0.2\n",
    ")\n",
    "\n",
    "# Make predictions on the validation data\n",
    "predictions <- model %>% predict(val_x_norm)\n",
    "rmse <- sqrt(mean((predictions - val_y)^2))\n",
    "score_nn = rmse\n",
    "print(paste(\"RMSE: \", rmse))"
   ]
  },
  {
   "cell_type": "markdown",
   "id": "62039f20-3319-47d9-98cb-2a707f080dc7",
   "metadata": {},
   "source": [
    "#### RSNNS"
   ]
  },
  {
   "cell_type": "code",
   "execution_count": 19,
   "id": "b1899b72-42b9-431b-96ac-b5147d439437",
   "metadata": {},
   "outputs": [],
   "source": [
    "control <- trainControl(method = \"none\")\n",
    "RSNNS_model <- train(train_x_norm, train_y, method = \"mlp\", trControl = control)"
   ]
  },
  {
   "cell_type": "code",
   "execution_count": 20,
   "id": "3bd7a881-1248-4063-bffc-1aa7f190ea98",
   "metadata": {},
   "outputs": [
    {
     "name": "stdout",
     "output_type": "stream",
     "text": [
      "[1] \"Root Mean Squared Error (RMSE): 48.453524405078\"\n"
     ]
    }
   ],
   "source": [
    "predictions <- predict(RSNNS_model, val_x_norm)\n",
    "rmse <- sqrt(mean((predictions - val_y)^2))\n",
    "score_rsnns = rmse\n",
    "print(paste(\"Root Mean Squared Error (RMSE):\", rmse))"
   ]
  },
  {
   "cell_type": "markdown",
   "id": "ff281522-9aff-4225-8468-f87f2d1eb655",
   "metadata": {},
   "source": [
    "#### SVM"
   ]
  },
  {
   "cell_type": "code",
   "execution_count": 21,
   "id": "874e1537-ea3b-42f5-be24-ffac91f397f5",
   "metadata": {},
   "outputs": [],
   "source": [
    "svm_model <- svm(target ~ ., data = data_train_val$train)"
   ]
  },
  {
   "cell_type": "code",
   "execution_count": 22,
   "id": "8c266aa1-60b0-49f7-9da7-e19dda4f877e",
   "metadata": {},
   "outputs": [
    {
     "name": "stdout",
     "output_type": "stream",
     "text": [
      "[1] \"Root Mean Squared Error (RMSE): 30.0327501465375\"\n"
     ]
    }
   ],
   "source": [
    "predictions <- predict(svm_model, val_x)\n",
    "rmse <- sqrt(mean((predictions - val_y)^2))\n",
    "score_svm = rmse\n",
    "print(paste(\"Root Mean Squared Error (RMSE):\", rmse))"
   ]
  },
  {
   "cell_type": "markdown",
   "id": "48577414-9475-4c8a-a3d0-66797414c2fe",
   "metadata": {},
   "source": [
    "#### Randomforest"
   ]
  },
  {
   "cell_type": "code",
   "execution_count": 23,
   "id": "45689dcb-0a1c-4995-9c74-bd10082dfd1f",
   "metadata": {},
   "outputs": [],
   "source": [
    "rf_model <- randomForest(target ~ ., data = data_train_val$train)"
   ]
  },
  {
   "cell_type": "code",
   "execution_count": 24,
   "id": "ec73ef5d-d039-44cd-9a26-ce0fe7e3ced3",
   "metadata": {},
   "outputs": [
    {
     "name": "stdout",
     "output_type": "stream",
     "text": [
      "[1] \"Root Mean Squared Error (RMSE): 29.8543996344159\"\n"
     ]
    }
   ],
   "source": [
    "predictions <- predict(rf_model, val_x)\n",
    "rmse <- sqrt(mean((predictions - val_y)^2))\n",
    "score_rf = rmse\n",
    "print(paste(\"Root Mean Squared Error (RMSE):\", rmse))"
   ]
  },
  {
   "cell_type": "markdown",
   "id": "056d6da8-a628-4565-8b8a-cb680ae66de7",
   "metadata": {},
   "source": [
    "#### Comparison"
   ]
  },
  {
   "cell_type": "code",
   "execution_count": 62,
   "id": "ddd48d2c-46b3-4642-a0e8-76fdf640ec4b",
   "metadata": {},
   "outputs": [
    {
     "data": {
      "image/png": "[encoded data removed]",
      "text/plain": [
       "plot without title"
      ]
     },
     "metadata": {
      "image/png": {
       "height": 120,
       "width": 600
      }
     },
     "output_type": "display_data"
    }
   ],
   "source": [
    "# Create a dataframe with RMSE values\n",
    "rmse_df <- data.frame(\n",
    "  Model = c(\"Neural Network\", \"RSNNS\", \"SVM\", \"Random Forest\"),\n",
    "  RMSE = c(score_nn, score_rsnns, score_svm, score_rf))\n",
    "\n",
    "# Plot RMSE values\n",
    "ggplot(rmse_df, aes(x = Model, y = RMSE, fill = Model)) +\n",
    "  geom_bar(stat = \"identity\") +\n",
    "  geom_text(aes(label = round(RMSE, 2)), vjust = 1.5, color = \"white\", size = 6) +\n",
    "  theme_minimal() +\n",
    "  ggtitle(\"Model Comparison Based on RMSE\")+\n",
    "  theme(legend.position = \"none\")"
   ]
  },
  {
   "cell_type": "markdown",
   "id": "00b7650c-b120-4d95-9879-ad1c6ee515d9",
   "metadata": {},
   "source": [
    "### 3. Other model implementation"
   ]
  },
  {
   "cell_type": "markdown",
   "id": "bb5231ef-b761-4925-babd-ec065e4f64c3",
   "metadata": {},
   "source": [
    "#### XGBoost"
   ]
  },
  {
   "cell_type": "markdown",
   "id": "a205cf03-fdb8-497e-8d17-ffa3e53dcddd",
   "metadata": {},
   "source": [
    "###### Input configuration"
   ]
  },
  {
   "cell_type": "code",
   "execution_count": 26,
   "id": "639612e6-6a01-405b-9308-a39425a51040",
   "metadata": {},
   "outputs": [],
   "source": [
    "train = get_train_data()\n",
    "test = get_test_data()\n",
    "data <- bind_rows(train, test)\n",
    "data <- na_to_median_by_location(data)\n",
    "data <- add_time(data)\n",
    "#data <- add_lag_lead(data,10)\n",
    "features <- setdiff(names(data), c(\"Date\", \"Place_ID.X.Date\"))\n",
    "train_data <- data[1:nrow(train), features, drop = FALSE]\n",
    "test_data <- data[(nrow(train) + 1):nrow(data), features, drop = FALSE]\n",
    "data_train_val <- get_train_val(train_data ,0.8)"
   ]
  },
  {
   "cell_type": "code",
   "execution_count": 27,
   "id": "6ff9c964-4b57-40a1-8d2d-5b0d416ab670",
   "metadata": {},
   "outputs": [],
   "source": [
    "train_x <- data_train_val$train %>% select(-c(target)) %>% as.matrix()\n",
    "train_y <- data_train_val$train$target\n",
    "\n",
    "val_x <- data_train_val$val %>% select(-target) %>% as.matrix()\n",
    "val_y <- data_train_val$val$target\n",
    "\n",
    "# Normalize the features (if necessary)\n",
    "#train_x_norm <- scale(train_x)\n",
    "#val_x_norm <- scale(val_x)"
   ]
  },
  {
   "cell_type": "markdown",
   "id": "9f1eec9b-e0bc-48c6-8464-948bf464ef95",
   "metadata": {},
   "source": [
    "###### Implementation"
   ]
  },
  {
   "cell_type": "code",
   "execution_count": 28,
   "id": "6f5b1c17-2fde-45f9-854c-ca759fc87dfc",
   "metadata": {},
   "outputs": [],
   "source": [
    "train_x_matrix <- as.matrix(train_x)\n",
    "train_y_vector <- as.numeric(train_y)\n",
    "dtrain <- xgb.DMatrix(data = train_x, label = train_y)\n",
    "\n",
    "xgb_model <- xgb.train( data = dtrain, nrounds = 50)"
   ]
  },
  {
   "cell_type": "code",
   "execution_count": 29,
   "id": "ade0ece9-f55e-4ef8-bf5e-a5d893e93995",
   "metadata": {},
   "outputs": [
    {
     "name": "stdout",
     "output_type": "stream",
     "text": [
      "[1] \"Root Mean Squared Error (RMSE): 33.2578646728697\"\n"
     ]
    }
   ],
   "source": [
    "dval <- xgb.DMatrix(data = val_x)\n",
    "predictions <- predict(xgb_model, dval)\n",
    "rmse <- sqrt(mean((predictions - val_y)^2))\n",
    "score_xgb = rmse\n",
    "print(paste(\"Root Mean Squared Error (RMSE):\", rmse))"
   ]
  },
  {
   "cell_type": "markdown",
   "id": "2371badd-dea4-444c-a8af-0ae37d311498",
   "metadata": {},
   "source": [
    "#### LGB model"
   ]
  },
  {
   "cell_type": "markdown",
   "id": "daaf1f54-5119-4874-b752-7d8f8157b460",
   "metadata": {},
   "source": [
    "###### Input configuration"
   ]
  },
  {
   "cell_type": "code",
   "execution_count": 86,
   "id": "ba40a24c-fb06-4f98-85b2-51d32f0a3c0e",
   "metadata": {},
   "outputs": [],
   "source": [
    "train = get_train_data()\n",
    "test = get_test_data()\n",
    "data <- bind_rows(train, test)\n",
    "data <- na_to_median_by_location(data)\n",
    "data <- add_time(data)\n",
    "data <- add_lag_lead(data,10)\n",
    "features <- setdiff(names(data), c(\"Date\", \"Place_ID.X.Date\"))\n",
    "train_data <- data[1:nrow(train), features, drop = FALSE]\n",
    "test_data <- data[(nrow(train) + 1):nrow(data), features, drop = FALSE]\n",
    "data_train_val <- get_train_val(train_data ,0.8)"
   ]
  },
  {
   "cell_type": "code",
   "execution_count": 100,
   "id": "90496968-784e-48e7-85be-132713544b67",
   "metadata": {},
   "outputs": [],
   "source": [
    "train_x <- data_train_val$train %>% select(-c(target)) %>% as.matrix()\n",
    "train_y <- data_train_val$train$target\n",
    "\n",
    "val_x <- data_train_val$val %>% select(-target) %>% as.matrix()\n",
    "val_y <- data_train_val$val$target\n",
    "\n",
    "# Normalize the features (if necessary)\n",
    "#train_x_norm <- scale(train_x)\n",
    "#val_x_norm <- scale(val_x)"
   ]
  },
  {
   "cell_type": "markdown",
   "id": "d33cde86-13ee-46a6-b702-a95ac90d1844",
   "metadata": {
    "jp-MarkdownHeadingCollapsed": true
   },
   "source": [
    "###### Implementation basic model"
   ]
  },
  {
   "cell_type": "code",
   "execution_count": 101,
   "id": "706acea6-f9fa-4547-863a-fc0d04847b41",
   "metadata": {},
   "outputs": [
    {
     "name": "stdout",
     "output_type": "stream",
     "text": [
      "[LightGBM] [Info] Auto-choosing col-wise multi-threading, the overhead of testing was 0.398075 seconds.\n",
      "You can set `force_col_wise=true` to remove the overhead.\n",
      "[LightGBM] [Info] Total Bins 435208\n",
      "[LightGBM] [Info] Number of data points in the train set: 24446, number of used features: 1797\n",
      "[LightGBM] [Info] Start training from score 61.120825\n"
     ]
    }
   ],
   "source": [
    "dtrain <- lgb.Dataset(data = train_x, label = train_y)#, free_raw_data = FALSE)\n",
    "dtest <- lgb.Dataset(data = val_x, label = val_y)#, free_raw_data = FALSE)\n",
    "\n",
    "# Parameters setup for LightGBM\n",
    "params <- list(\n",
    "    objective = \"regression\",\n",
    "    metric = \"rmse\")\n",
    "\n",
    "# Train the LightGBM model with early stopping\n",
    "lgb_model <- lgb.train(\n",
    "  params = params,\n",
    "  data = dtrain)"
   ]
  },
  {
   "cell_type": "code",
   "execution_count": 102,
   "id": "d08fdaf2-b172-4bf8-8eb7-95d5c6167482",
   "metadata": {},
   "outputs": [
    {
     "name": "stdout",
     "output_type": "stream",
     "text": [
      "[1] \"Root Mean Squared Error (RMSE): 25.9192455060904\"\n"
     ]
    }
   ],
   "source": [
    "predictions <- predict(lgb_model, val_x)\n",
    "rmse <- sqrt(mean((predictions - val_y)^2))\n",
    "score_lgb_basic = rmse\n",
    "print(paste(\"Root Mean Squared Error (RMSE):\", rmse))"
   ]
  },
  {
   "cell_type": "markdown",
   "id": "433b048c-3ca7-46e0-9ecc-3313ce14ef7a",
   "metadata": {
    "jp-MarkdownHeadingCollapsed": true
   },
   "source": [
    "###### Implementation finetuned model"
   ]
  },
  {
   "cell_type": "code",
   "execution_count": 103,
   "id": "f822a56f-72e0-4526-9534-42d0e49720f4",
   "metadata": {},
   "outputs": [
    {
     "name": "stdout",
     "output_type": "stream",
     "text": [
      "[LightGBM] [Debug] Dataset::GetMultiBinFromSparseFeatures: sparse rate 0.798559\n",
      "[LightGBM] [Info] Total Bins 410015\n",
      "[LightGBM] [Info] Number of data points in the train set: 24446, number of used features: 1797\n",
      "[LightGBM] [Info] Start training from score 61.120825\n",
      "[LightGBM] [Debug] Trained a tree with leaves = 50 and depth = 10\n",
      "[1]:  test's rmse:44.4292 \n",
      "Will train until there is no improvement in 10 rounds.\n",
      "[LightGBM] [Debug] Trained a tree with leaves = 50 and depth = 10\n",
      "[2]:  test's rmse:42.5805 \n",
      "[LightGBM] [Debug] Trained a tree with leaves = 50 and depth = 10\n",
      "[3]:  test's rmse:40.9783 \n",
      "[LightGBM] [Debug] Trained a tree with leaves = 50 and depth = 9\n",
      "[4]:  test's rmse:39.5323 \n",
      "[LightGBM] [Debug] Trained a tree with leaves = 50 and depth = 11\n",
      "[5]:  test's rmse:38.2508 \n",
      "[LightGBM] [Debug] Trained a tree with leaves = 50 and depth = 9\n",
      "[6]:  test's rmse:37.163 \n",
      "[LightGBM] [Debug] Trained a tree with leaves = 50 and depth = 10\n",
      "[7]:  test's rmse:36.1741 \n",
      "[LightGBM] [Debug] Trained a tree with leaves = 50 and depth = 12\n",
      "[8]:  test's rmse:35.2812 \n",
      "[LightGBM] [Debug] Trained a tree with leaves = 50 and depth = 9\n",
      "[9]:  test's rmse:34.5206 \n",
      "[LightGBM] [Debug] Trained a tree with leaves = 50 and depth = 10\n",
      "[10]:  test's rmse:33.8394 \n",
      "[LightGBM] [Debug] Trained a tree with leaves = 50 and depth = 12\n",
      "[11]:  test's rmse:33.2178 \n",
      "[LightGBM] [Debug] Trained a tree with leaves = 50 and depth = 9\n",
      "[12]:  test's rmse:32.647 \n",
      "[LightGBM] [Debug] Trained a tree with leaves = 50 and depth = 8\n",
      "[13]:  test's rmse:32.1564 \n",
      "[LightGBM] [Debug] Trained a tree with leaves = 50 and depth = 11\n",
      "[14]:  test's rmse:31.6913 \n",
      "[LightGBM] [Debug] Trained a tree with leaves = 50 and depth = 10\n",
      "[15]:  test's rmse:31.2877 \n",
      "[LightGBM] [Debug] Trained a tree with leaves = 50 and depth = 10\n",
      "[16]:  test's rmse:30.9236 \n",
      "[LightGBM] [Debug] Trained a tree with leaves = 50 and depth = 13\n",
      "[17]:  test's rmse:30.627 \n",
      "[LightGBM] [Debug] Trained a tree with leaves = 50 and depth = 12\n",
      "[18]:  test's rmse:30.3322 \n",
      "[LightGBM] [Debug] Trained a tree with leaves = 50 and depth = 10\n",
      "[19]:  test's rmse:30.0754 \n",
      "[LightGBM] [Debug] Trained a tree with leaves = 50 and depth = 12\n",
      "[20]:  test's rmse:29.8233 \n",
      "[LightGBM] [Debug] Trained a tree with leaves = 50 and depth = 13\n",
      "[21]:  test's rmse:29.6064 \n",
      "[LightGBM] [Debug] Trained a tree with leaves = 50 and depth = 15\n",
      "[22]:  test's rmse:29.4052 \n",
      "[LightGBM] [Debug] Trained a tree with leaves = 50 and depth = 12\n",
      "[23]:  test's rmse:29.1441 \n",
      "[LightGBM] [Debug] Trained a tree with leaves = 50 and depth = 16\n",
      "[24]:  test's rmse:28.9638 \n",
      "[LightGBM] [Debug] Trained a tree with leaves = 50 and depth = 13\n",
      "[25]:  test's rmse:28.7616 \n",
      "[LightGBM] [Debug] Trained a tree with leaves = 50 and depth = 13\n",
      "[26]:  test's rmse:28.6213 \n",
      "[LightGBM] [Debug] Trained a tree with leaves = 50 and depth = 13\n",
      "[27]:  test's rmse:28.4382 \n",
      "[LightGBM] [Debug] Trained a tree with leaves = 50 and depth = 15\n",
      "[28]:  test's rmse:28.2905 \n",
      "[LightGBM] [Debug] Trained a tree with leaves = 50 and depth = 16\n",
      "[29]:  test's rmse:28.1787 \n",
      "[LightGBM] [Debug] Trained a tree with leaves = 50 and depth = 12\n",
      "[30]:  test's rmse:28.0399 \n",
      "[LightGBM] [Debug] Trained a tree with leaves = 50 and depth = 19\n",
      "[31]:  test's rmse:27.9528 \n",
      "[LightGBM] [Debug] Trained a tree with leaves = 50 and depth = 17\n",
      "[32]:  test's rmse:27.8524 \n",
      "[LightGBM] [Debug] Trained a tree with leaves = 50 and depth = 18\n",
      "[33]:  test's rmse:27.7413 \n",
      "[LightGBM] [Debug] Trained a tree with leaves = 50 and depth = 14\n",
      "[34]:  test's rmse:27.6576 \n",
      "[LightGBM] [Debug] Trained a tree with leaves = 50 and depth = 21\n",
      "[35]:  test's rmse:27.5438 \n",
      "[LightGBM] [Debug] Trained a tree with leaves = 50 and depth = 13\n",
      "[36]:  test's rmse:27.4328 \n",
      "[LightGBM] [Debug] Trained a tree with leaves = 50 and depth = 16\n",
      "[37]:  test's rmse:27.3686 \n",
      "[LightGBM] [Debug] Trained a tree with leaves = 50 and depth = 13\n",
      "[38]:  test's rmse:27.2802 \n",
      "[LightGBM] [Debug] Trained a tree with leaves = 50 and depth = 13\n",
      "[39]:  test's rmse:27.1884 \n",
      "[LightGBM] [Debug] Trained a tree with leaves = 50 and depth = 14\n",
      "[40]:  test's rmse:27.1097 \n",
      "[LightGBM] [Debug] Trained a tree with leaves = 50 and depth = 13\n",
      "[41]:  test's rmse:27.0662 \n",
      "[LightGBM] [Debug] Trained a tree with leaves = 50 and depth = 16\n",
      "[42]:  test's rmse:26.9686 \n",
      "[LightGBM] [Debug] Trained a tree with leaves = 50 and depth = 14\n",
      "[43]:  test's rmse:26.9216 \n",
      "[LightGBM] [Debug] Trained a tree with leaves = 50 and depth = 12\n",
      "[44]:  test's rmse:26.8882 \n",
      "[LightGBM] [Debug] Trained a tree with leaves = 50 and depth = 21\n",
      "[45]:  test's rmse:26.824 \n",
      "[LightGBM] [Debug] Trained a tree with leaves = 50 and depth = 11\n",
      "[46]:  test's rmse:26.7454 \n",
      "[LightGBM] [Debug] Trained a tree with leaves = 50 and depth = 17\n",
      "[47]:  test's rmse:26.6981 \n",
      "[LightGBM] [Debug] Trained a tree with leaves = 50 and depth = 17\n",
      "[48]:  test's rmse:26.6432 \n",
      "[LightGBM] [Debug] Trained a tree with leaves = 50 and depth = 14\n",
      "[49]:  test's rmse:26.5893 \n",
      "[LightGBM] [Debug] Trained a tree with leaves = 50 and depth = 21\n",
      "[50]:  test's rmse:26.5393 \n",
      "[LightGBM] [Debug] Trained a tree with leaves = 50 and depth = 11\n",
      "[51]:  test's rmse:26.5025 \n",
      "[LightGBM] [Debug] Trained a tree with leaves = 50 and depth = 11\n",
      "[52]:  test's rmse:26.4709 \n",
      "[LightGBM] [Debug] Trained a tree with leaves = 50 and depth = 14\n",
      "[53]:  test's rmse:26.4514 \n",
      "[LightGBM] [Debug] Trained a tree with leaves = 50 and depth = 13\n",
      "[54]:  test's rmse:26.4358 \n",
      "[LightGBM] [Debug] Trained a tree with leaves = 50 and depth = 13\n",
      "[55]:  test's rmse:26.379 \n",
      "[LightGBM] [Debug] Trained a tree with leaves = 50 and depth = 11\n",
      "[56]:  test's rmse:26.3221 \n",
      "[LightGBM] [Debug] Trained a tree with leaves = 50 and depth = 13\n",
      "[57]:  test's rmse:26.2961 \n",
      "[LightGBM] [Debug] Trained a tree with leaves = 50 and depth = 16\n",
      "[58]:  test's rmse:26.2641 \n",
      "[LightGBM] [Debug] Trained a tree with leaves = 50 and depth = 18\n",
      "[59]:  test's rmse:26.2108 \n",
      "[LightGBM] [Debug] Trained a tree with leaves = 50 and depth = 11\n",
      "[60]:  test's rmse:26.1823 \n",
      "[LightGBM] [Debug] Trained a tree with leaves = 50 and depth = 15\n",
      "[61]:  test's rmse:26.1222 \n",
      "[LightGBM] [Debug] Trained a tree with leaves = 50 and depth = 17\n",
      "[62]:  test's rmse:26.1156 \n",
      "[LightGBM] [Debug] Trained a tree with leaves = 50 and depth = 12\n",
      "[63]:  test's rmse:26.0449 \n",
      "[LightGBM] [Debug] Trained a tree with leaves = 50 and depth = 18\n",
      "[64]:  test's rmse:26.0319 \n",
      "[LightGBM] [Debug] Trained a tree with leaves = 50 and depth = 15\n",
      "[65]:  test's rmse:26.0281 \n",
      "[LightGBM] [Debug] Trained a tree with leaves = 50 and depth = 12\n",
      "[66]:  test's rmse:26.0148 \n",
      "[LightGBM] [Debug] Trained a tree with leaves = 50 and depth = 15\n",
      "[67]:  test's rmse:25.9826 \n",
      "[LightGBM] [Debug] Trained a tree with leaves = 50 and depth = 14\n",
      "[68]:  test's rmse:25.9601 \n",
      "[LightGBM] [Debug] Trained a tree with leaves = 50 and depth = 15\n",
      "[69]:  test's rmse:25.9249 \n",
      "[LightGBM] [Debug] Trained a tree with leaves = 50 and depth = 16\n",
      "[70]:  test's rmse:25.8809 \n",
      "[LightGBM] [Debug] Trained a tree with leaves = 50 and depth = 17\n",
      "[71]:  test's rmse:25.8663 \n",
      "[LightGBM] [Debug] Trained a tree with leaves = 50 and depth = 16\n",
      "[72]:  test's rmse:25.8585 \n",
      "[LightGBM] [Debug] Trained a tree with leaves = 50 and depth = 13\n",
      "[73]:  test's rmse:25.8359 \n",
      "[LightGBM] [Debug] Trained a tree with leaves = 50 and depth = 13\n",
      "[74]:  test's rmse:25.8109 \n",
      "[LightGBM] [Debug] Trained a tree with leaves = 50 and depth = 12\n",
      "[75]:  test's rmse:25.8011 \n",
      "[LightGBM] [Debug] Trained a tree with leaves = 50 and depth = 16\n",
      "[76]:  test's rmse:25.7654 \n",
      "[LightGBM] [Debug] Trained a tree with leaves = 50 and depth = 10\n",
      "[77]:  test's rmse:25.7431 \n",
      "[LightGBM] [Debug] Trained a tree with leaves = 50 and depth = 14\n",
      "[78]:  test's rmse:25.7214 \n",
      "[LightGBM] [Debug] Trained a tree with leaves = 50 and depth = 16\n",
      "[79]:  test's rmse:25.7057 \n",
      "[LightGBM] [Debug] Trained a tree with leaves = 50 and depth = 12\n",
      "[80]:  test's rmse:25.6885 \n",
      "[LightGBM] [Debug] Trained a tree with leaves = 50 and depth = 15\n",
      "[81]:  test's rmse:25.6687 \n",
      "[LightGBM] [Debug] Trained a tree with leaves = 50 and depth = 18\n",
      "[82]:  test's rmse:25.6622 \n",
      "[LightGBM] [Debug] Trained a tree with leaves = 50 and depth = 25\n",
      "[83]:  test's rmse:25.631 \n",
      "[LightGBM] [Debug] Trained a tree with leaves = 50 and depth = 12\n",
      "[84]:  test's rmse:25.6165 \n",
      "[LightGBM] [Debug] Trained a tree with leaves = 50 and depth = 14\n",
      "[85]:  test's rmse:25.587 \n",
      "[LightGBM] [Debug] Trained a tree with leaves = 50 and depth = 15\n",
      "[86]:  test's rmse:25.5602 \n",
      "[LightGBM] [Debug] Trained a tree with leaves = 50 and depth = 14\n",
      "[87]:  test's rmse:25.5512 \n",
      "[LightGBM] [Debug] Trained a tree with leaves = 50 and depth = 17\n",
      "[88]:  test's rmse:25.5415 \n",
      "[LightGBM] [Debug] Trained a tree with leaves = 50 and depth = 15\n",
      "[89]:  test's rmse:25.5251 \n",
      "[LightGBM] [Debug] Trained a tree with leaves = 50 and depth = 17\n",
      "[90]:  test's rmse:25.5164 \n",
      "[LightGBM] [Debug] Trained a tree with leaves = 50 and depth = 16\n",
      "[91]:  test's rmse:25.5101 \n",
      "[LightGBM] [Debug] Trained a tree with leaves = 50 and depth = 13\n",
      "[92]:  test's rmse:25.5011 \n",
      "[LightGBM] [Debug] Trained a tree with leaves = 50 and depth = 19\n",
      "[93]:  test's rmse:25.4765 \n",
      "[LightGBM] [Debug] Trained a tree with leaves = 50 and depth = 20\n",
      "[94]:  test's rmse:25.457 \n",
      "[LightGBM] [Debug] Trained a tree with leaves = 50 and depth = 12\n",
      "[95]:  test's rmse:25.4199 \n",
      "[LightGBM] [Debug] Trained a tree with leaves = 50 and depth = 12\n",
      "[96]:  test's rmse:25.4067 \n",
      "[LightGBM] [Debug] Trained a tree with leaves = 50 and depth = 11\n",
      "[97]:  test's rmse:25.3946 \n",
      "[LightGBM] [Debug] Trained a tree with leaves = 50 and depth = 13\n",
      "[98]:  test's rmse:25.3814 \n",
      "[LightGBM] [Debug] Trained a tree with leaves = 50 and depth = 13\n",
      "[99]:  test's rmse:25.3494 \n",
      "[LightGBM] [Debug] Trained a tree with leaves = 50 and depth = 11\n",
      "[100]:  test's rmse:25.3277 \n",
      "[LightGBM] [Debug] Trained a tree with leaves = 50 and depth = 19\n",
      "[101]:  test's rmse:25.3278 \n",
      "[LightGBM] [Debug] Trained a tree with leaves = 50 and depth = 9\n",
      "[102]:  test's rmse:25.3316 \n",
      "[LightGBM] [Debug] Trained a tree with leaves = 50 and depth = 13\n",
      "[103]:  test's rmse:25.3205 \n",
      "[LightGBM] [Debug] Trained a tree with leaves = 50 and depth = 12\n",
      "[104]:  test's rmse:25.3046 \n",
      "[LightGBM] [Debug] Trained a tree with leaves = 50 and depth = 13\n",
      "[105]:  test's rmse:25.2928 \n",
      "[LightGBM] [Debug] Trained a tree with leaves = 50 and depth = 18\n",
      "[106]:  test's rmse:25.2795 \n",
      "[LightGBM] [Debug] Trained a tree with leaves = 50 and depth = 14\n",
      "[107]:  test's rmse:25.2605 \n",
      "[LightGBM] [Debug] Trained a tree with leaves = 50 and depth = 11\n",
      "[108]:  test's rmse:25.254 \n",
      "[LightGBM] [Debug] Trained a tree with leaves = 50 and depth = 19\n",
      "[109]:  test's rmse:25.2478 \n",
      "[LightGBM] [Debug] Trained a tree with leaves = 50 and depth = 13\n",
      "[110]:  test's rmse:25.2348 \n",
      "[LightGBM] [Debug] Trained a tree with leaves = 50 and depth = 15\n",
      "[111]:  test's rmse:25.2127 \n",
      "[LightGBM] [Debug] Trained a tree with leaves = 50 and depth = 18\n",
      "[112]:  test's rmse:25.202 \n",
      "[LightGBM] [Debug] Trained a tree with leaves = 50 and depth = 18\n",
      "[113]:  test's rmse:25.1894 \n",
      "[LightGBM] [Debug] Trained a tree with leaves = 50 and depth = 15\n",
      "[114]:  test's rmse:25.1742 \n",
      "[LightGBM] [Debug] Trained a tree with leaves = 50 and depth = 13\n",
      "[115]:  test's rmse:25.1439 \n",
      "[LightGBM] [Debug] Trained a tree with leaves = 50 and depth = 14\n",
      "[116]:  test's rmse:25.1328 \n",
      "[LightGBM] [Debug] Trained a tree with leaves = 50 and depth = 13\n",
      "[117]:  test's rmse:25.1308 \n",
      "[LightGBM] [Debug] Trained a tree with leaves = 50 and depth = 14\n",
      "[118]:  test's rmse:25.1191 \n",
      "[LightGBM] [Debug] Trained a tree with leaves = 50 and depth = 16\n",
      "[119]:  test's rmse:25.1098 \n",
      "[LightGBM] [Debug] Trained a tree with leaves = 50 and depth = 13\n",
      "[120]:  test's rmse:25.1007 \n",
      "[LightGBM] [Debug] Trained a tree with leaves = 50 and depth = 17\n",
      "[121]:  test's rmse:25.0916 \n",
      "[LightGBM] [Debug] Trained a tree with leaves = 50 and depth = 13\n",
      "[122]:  test's rmse:25.0831 \n",
      "[LightGBM] [Debug] Trained a tree with leaves = 50 and depth = 13\n",
      "[123]:  test's rmse:25.0769 \n",
      "[LightGBM] [Debug] Trained a tree with leaves = 50 and depth = 13\n",
      "[124]:  test's rmse:25.0712 \n",
      "[LightGBM] [Debug] Trained a tree with leaves = 50 and depth = 14\n",
      "[125]:  test's rmse:25.0607 \n",
      "[LightGBM] [Debug] Trained a tree with leaves = 50 and depth = 12\n",
      "[126]:  test's rmse:25.0566 \n",
      "[LightGBM] [Debug] Trained a tree with leaves = 50 and depth = 16\n",
      "[127]:  test's rmse:25.0467 \n",
      "[LightGBM] [Debug] Trained a tree with leaves = 50 and depth = 15\n",
      "[128]:  test's rmse:25.045 \n",
      "[LightGBM] [Debug] Trained a tree with leaves = 50 and depth = 20\n",
      "[129]:  test's rmse:25.0301 \n",
      "[LightGBM] [Debug] Trained a tree with leaves = 50 and depth = 18\n",
      "[130]:  test's rmse:25.0173 \n",
      "[LightGBM] [Debug] Trained a tree with leaves = 50 and depth = 11\n",
      "[131]:  test's rmse:24.9968 \n",
      "[LightGBM] [Debug] Trained a tree with leaves = 50 and depth = 21\n",
      "[132]:  test's rmse:24.9928 \n",
      "[LightGBM] [Debug] Trained a tree with leaves = 50 and depth = 14\n",
      "[133]:  test's rmse:24.9896 \n",
      "[LightGBM] [Debug] Trained a tree with leaves = 50 and depth = 12\n",
      "[134]:  test's rmse:24.9805 \n",
      "[LightGBM] [Debug] Trained a tree with leaves = 50 and depth = 13\n",
      "[135]:  test's rmse:24.9699 \n",
      "[LightGBM] [Debug] Trained a tree with leaves = 50 and depth = 15\n",
      "[136]:  test's rmse:24.9438 \n",
      "[LightGBM] [Debug] Trained a tree with leaves = 50 and depth = 12\n",
      "[137]:  test's rmse:24.9326 \n",
      "[LightGBM] [Debug] Trained a tree with leaves = 50 and depth = 14\n",
      "[138]:  test's rmse:24.9266 \n",
      "[LightGBM] [Debug] Trained a tree with leaves = 50 and depth = 13\n",
      "[139]:  test's rmse:24.9214 \n",
      "[LightGBM] [Debug] Trained a tree with leaves = 50 and depth = 16\n",
      "[140]:  test's rmse:24.9098 \n",
      "[LightGBM] [Debug] Trained a tree with leaves = 50 and depth = 10\n",
      "[141]:  test's rmse:24.8974 \n",
      "[LightGBM] [Debug] Trained a tree with leaves = 50 and depth = 14\n",
      "[142]:  test's rmse:24.8951 \n",
      "[LightGBM] [Debug] Trained a tree with leaves = 50 and depth = 12\n",
      "[143]:  test's rmse:24.8746 \n",
      "[LightGBM] [Debug] Trained a tree with leaves = 50 and depth = 11\n",
      "[144]:  test's rmse:24.8761 \n",
      "[LightGBM] [Debug] Trained a tree with leaves = 50 and depth = 14\n",
      "[145]:  test's rmse:24.87 \n",
      "[LightGBM] [Debug] Trained a tree with leaves = 50 and depth = 18\n",
      "[146]:  test's rmse:24.8641 \n",
      "[LightGBM] [Debug] Trained a tree with leaves = 50 and depth = 10\n",
      "[147]:  test's rmse:24.8631 \n",
      "[LightGBM] [Debug] Trained a tree with leaves = 50 and depth = 14\n",
      "[148]:  test's rmse:24.8612 \n",
      "[LightGBM] [Debug] Trained a tree with leaves = 50 and depth = 18\n",
      "[149]:  test's rmse:24.8473 \n",
      "[LightGBM] [Debug] Trained a tree with leaves = 50 and depth = 11\n",
      "[150]:  test's rmse:24.8439 \n",
      "[LightGBM] [Debug] Trained a tree with leaves = 50 and depth = 11\n",
      "[151]:  test's rmse:24.8379 \n",
      "[LightGBM] [Debug] Trained a tree with leaves = 50 and depth = 15\n",
      "[152]:  test's rmse:24.8269 \n",
      "[LightGBM] [Debug] Trained a tree with leaves = 50 and depth = 14\n",
      "[153]:  test's rmse:24.8193 \n",
      "[LightGBM] [Debug] Trained a tree with leaves = 50 and depth = 10\n",
      "[154]:  test's rmse:24.8145 \n",
      "[LightGBM] [Debug] Trained a tree with leaves = 50 and depth = 12\n",
      "[155]:  test's rmse:24.8177 \n",
      "[LightGBM] [Debug] Trained a tree with leaves = 50 and depth = 15\n",
      "[156]:  test's rmse:24.8091 \n",
      "[LightGBM] [Debug] Trained a tree with leaves = 50 and depth = 15\n",
      "[157]:  test's rmse:24.7995 \n",
      "[LightGBM] [Debug] Trained a tree with leaves = 50 and depth = 14\n",
      "[158]:  test's rmse:24.786 \n",
      "[LightGBM] [Debug] Trained a tree with leaves = 50 and depth = 12\n",
      "[159]:  test's rmse:24.7807 \n",
      "[LightGBM] [Debug] Trained a tree with leaves = 50 and depth = 16\n",
      "[160]:  test's rmse:24.7729 \n",
      "[LightGBM] [Debug] Trained a tree with leaves = 50 and depth = 18\n",
      "[161]:  test's rmse:24.7704 \n",
      "[LightGBM] [Debug] Trained a tree with leaves = 50 and depth = 11\n",
      "[162]:  test's rmse:24.7634 \n",
      "[LightGBM] [Debug] Trained a tree with leaves = 50 and depth = 11\n",
      "[163]:  test's rmse:24.7589 \n",
      "[LightGBM] [Debug] Trained a tree with leaves = 50 and depth = 13\n",
      "[164]:  test's rmse:24.755 \n",
      "[LightGBM] [Debug] Trained a tree with leaves = 50 and depth = 17\n",
      "[165]:  test's rmse:24.7522 \n",
      "[LightGBM] [Debug] Trained a tree with leaves = 50 and depth = 15\n",
      "[166]:  test's rmse:24.7507 \n",
      "[LightGBM] [Debug] Trained a tree with leaves = 50 and depth = 14\n",
      "[167]:  test's rmse:24.7539 \n",
      "[LightGBM] [Debug] Trained a tree with leaves = 50 and depth = 13\n",
      "[168]:  test's rmse:24.7482 \n",
      "[LightGBM] [Debug] Trained a tree with leaves = 50 and depth = 13\n",
      "[169]:  test's rmse:24.7396 \n",
      "[LightGBM] [Debug] Trained a tree with leaves = 50 and depth = 11\n",
      "[170]:  test's rmse:24.727 \n",
      "[LightGBM] [Debug] Trained a tree with leaves = 50 and depth = 12\n",
      "[171]:  test's rmse:24.7183 \n",
      "[LightGBM] [Debug] Trained a tree with leaves = 50 and depth = 21\n",
      "[172]:  test's rmse:24.708 \n",
      "[LightGBM] [Debug] Trained a tree with leaves = 50 and depth = 13\n",
      "[173]:  test's rmse:24.7068 \n",
      "[LightGBM] [Debug] Trained a tree with leaves = 50 and depth = 14\n",
      "[174]:  test's rmse:24.7089 \n",
      "[LightGBM] [Debug] Trained a tree with leaves = 50 and depth = 11\n",
      "[175]:  test's rmse:24.7044 \n",
      "[LightGBM] [Debug] Trained a tree with leaves = 50 and depth = 15\n",
      "[176]:  test's rmse:24.7052 \n",
      "[LightGBM] [Debug] Trained a tree with leaves = 50 and depth = 15\n",
      "[177]:  test's rmse:24.7047 \n",
      "[LightGBM] [Debug] Trained a tree with leaves = 50 and depth = 14\n",
      "[178]:  test's rmse:24.7049 \n",
      "[LightGBM] [Debug] Trained a tree with leaves = 50 and depth = 19\n",
      "[179]:  test's rmse:24.7068 \n",
      "[LightGBM] [Debug] Trained a tree with leaves = 50 and depth = 13\n",
      "[180]:  test's rmse:24.6888 \n",
      "[LightGBM] [Debug] Trained a tree with leaves = 50 and depth = 15\n",
      "[181]:  test's rmse:24.6831 \n",
      "[LightGBM] [Debug] Trained a tree with leaves = 50 and depth = 16\n",
      "[182]:  test's rmse:24.6817 \n",
      "[LightGBM] [Debug] Trained a tree with leaves = 50 and depth = 15\n",
      "[183]:  test's rmse:24.6782 \n",
      "[LightGBM] [Debug] Trained a tree with leaves = 50 and depth = 14\n",
      "[184]:  test's rmse:24.6801 \n",
      "[LightGBM] [Debug] Trained a tree with leaves = 50 and depth = 10\n",
      "[185]:  test's rmse:24.6758 \n",
      "[LightGBM] [Debug] Trained a tree with leaves = 50 and depth = 13\n",
      "[186]:  test's rmse:24.6705 \n",
      "[LightGBM] [Debug] Trained a tree with leaves = 50 and depth = 14\n",
      "[187]:  test's rmse:24.6653 \n",
      "[LightGBM] [Debug] Trained a tree with leaves = 50 and depth = 16\n",
      "[188]:  test's rmse:24.6605 \n",
      "[LightGBM] [Debug] Trained a tree with leaves = 50 and depth = 17\n",
      "[189]:  test's rmse:24.6557 \n",
      "[LightGBM] [Debug] Trained a tree with leaves = 50 and depth = 12\n",
      "[190]:  test's rmse:24.6531 \n",
      "[LightGBM] [Debug] Trained a tree with leaves = 50 and depth = 14\n",
      "[191]:  test's rmse:24.6508 \n",
      "[LightGBM] [Debug] Trained a tree with leaves = 50 and depth = 14\n",
      "[192]:  test's rmse:24.646 \n",
      "[LightGBM] [Debug] Trained a tree with leaves = 50 and depth = 16\n",
      "[193]:  test's rmse:24.6433 \n",
      "[LightGBM] [Debug] Trained a tree with leaves = 50 and depth = 16\n",
      "[194]:  test's rmse:24.6382 \n",
      "[LightGBM] [Debug] Trained a tree with leaves = 50 and depth = 12\n",
      "[195]:  test's rmse:24.6241 \n",
      "[LightGBM] [Debug] Trained a tree with leaves = 50 and depth = 13\n",
      "[196]:  test's rmse:24.6215 \n",
      "[LightGBM] [Debug] Trained a tree with leaves = 50 and depth = 13\n",
      "[197]:  test's rmse:24.5994 \n",
      "[LightGBM] [Debug] Trained a tree with leaves = 50 and depth = 14\n",
      "[198]:  test's rmse:24.5935 \n",
      "[LightGBM] [Debug] Trained a tree with leaves = 50 and depth = 12\n",
      "[199]:  test's rmse:24.5899 \n",
      "[LightGBM] [Debug] Trained a tree with leaves = 50 and depth = 15\n",
      "[200]:  test's rmse:24.5889 \n",
      "Did not meet early stopping, best iteration is: [200]:  test's rmse:24.5889\n"
     ]
    }
   ],
   "source": [
    "dtrain <- lgb.Dataset(data = train_x, label = train_y, free_raw_data = FALSE)\n",
    "dtest <- lgb.Dataset(data = val_x, label = val_y, free_raw_data = FALSE)\n",
    "\n",
    "# Parameters setup for LightGBM\n",
    "params <- list(\n",
    "    objective = \"regression\",\n",
    "    metric = \"rmse\",\n",
    "    force_col_wise = TRUE,\n",
    "    num_leaves = 50,\n",
    "    max_depth = -1,\n",
    "    min_data_in_bin = 50\n",
    ")\n",
    "\n",
    "# Train the LightGBM model with early stopping\n",
    "lgb_model <- lgb.train(\n",
    "  params = params,\n",
    "  data = dtrain,\n",
    "  nrounds = 200,  # Use nrounds instead of num_boost_round\n",
    "  early_stopping_rounds = 10,\n",
    "  valids = list(test = dtest),  # Use valids instead of valid_sets\n",
    "  verbose = 1500  # Use verbose instead of verbose_eval\n",
    ")"
   ]
  },
  {
   "cell_type": "code",
   "execution_count": 104,
   "id": "08075c0b-0890-434e-8e49-6919b064459d",
   "metadata": {},
   "outputs": [
    {
     "name": "stdout",
     "output_type": "stream",
     "text": [
      "[1] \"Root Mean Squared Error (RMSE): 24.5889087447468\"\n"
     ]
    }
   ],
   "source": [
    "predictions <- predict(lgb_model, val_x)\n",
    "rmse <- sqrt(mean((predictions - val_y)^2))\n",
    "score_lgb_basic = rmse\n",
    "print(paste(\"Root Mean Squared Error (RMSE):\", rmse))"
   ]
  },
  {
   "cell_type": "markdown",
   "id": "9f702d94-b440-4df9-8cb5-6c4e6deb23dd",
   "metadata": {},
   "source": [
    "#### Comparison"
   ]
  },
  {
   "cell_type": "code",
   "execution_count": 105,
   "id": "c83699d2-7c78-4954-8b44-ca94d6929d30",
   "metadata": {},
   "outputs": [
    {
     "data": {
      "image/png": "[encoded data removed]",
      "text/plain": [
       "plot without title"
      ]
     },
     "metadata": {
      "image/png": {
       "height": 120,
       "width": 600
      }
     },
     "output_type": "display_data"
    }
   ],
   "source": [
    "# Create a dataframe with RMSE values\n",
    "rmse_df <- data.frame(\n",
    "  Model = c(\"Neural Network\", \"RSNNS\", \"SVM\", \"Random Forest\", \"XGBost\", \"Light Gradient Boost Basic\"),\n",
    "  RMSE = c(score_nn, score_rsnns, score_svm, score_rf, score_xgb, score_lgb_basic))\n",
    "\n",
    "# Plot RMSE values\n",
    "ggplot(rmse_df, aes(x = Model, y = RMSE, fill = Model)) +\n",
    "  geom_bar(stat = \"identity\") +\n",
    "  geom_text(aes(label = round(RMSE, 2)), vjust = 1.5, color = \"white\", size = 6) +\n",
    "  theme_minimal() +\n",
    "  ggtitle(\"Model Comparison Based on RMSE\")+\n",
    "  theme(legend.position = \"none\")"
   ]
  },
  {
   "cell_type": "markdown",
   "id": "5b2c3ecb-8e4b-479a-adab-c66a6a7068d5",
   "metadata": {},
   "source": [
    "#### Training model on the complete dataset"
   ]
  },
  {
   "cell_type": "code",
   "execution_count": 32,
   "id": "27048a8d-31a0-4636-99e5-bd8f4535b360",
   "metadata": {},
   "outputs": [],
   "source": [
    "train = get_train_data()\n",
    "test = get_test_data()\n",
    "data <- bind_rows(train, test)\n",
    "data <- na_to_median_by_location(data)\n",
    "data <- add_time(data)\n",
    "data <- add_lag_lead(data,10)\n",
    "features <- setdiff(names(data), c(\"Date\", \"Place_ID.X.Date\",\"Place_ID\"))\n",
    "train_data <- data[1:nrow(train), features, drop = FALSE]\n",
    "test_data <- data[(nrow(train) + 1):nrow(data), features, drop = FALSE]"
   ]
  },
  {
   "cell_type": "code",
   "execution_count": 33,
   "id": "a42cd4db-528f-46f2-988a-0e220628cada",
   "metadata": {},
   "outputs": [],
   "source": [
    "train_x <- train_data %>% select(-c(target)) %>% as.matrix()\n",
    "train_y <- train_data$target"
   ]
  },
  {
   "cell_type": "code",
   "execution_count": 34,
   "id": "517c77f0-3278-4f53-aa33-981390214bb7",
   "metadata": {},
   "outputs": [
    {
     "name": "stdout",
     "output_type": "stream",
     "text": [
      "[LightGBM] [Info] Total Bins 414161\n",
      "[LightGBM] [Info] Number of data points in the train set: 30557, number of used features: 1797\n",
      "[LightGBM] [Info] Start training from score 61.148045\n"
     ]
    }
   ],
   "source": [
    "dtrain <- lgb.Dataset(data = train_x, label = train_y, free_raw_data = FALSE)\n",
    "\n",
    "# Parameters setup for LightGBM\n",
    "params <- list(\n",
    "    objective = \"regression\",\n",
    "    metric = \"rmse\",\n",
    "    force_col_wise = TRUE,\n",
    "    num_leaves = 50,\n",
    "    max_depth = -1,\n",
    "    min_data_in_bin = 50\n",
    ")\n",
    "\n",
    "# Train the LightGBM model with early stopping\n",
    "lgb_model <- lgb.train(\n",
    "  params = params,\n",
    "  data = dtrain)"
   ]
  },
  {
   "cell_type": "markdown",
   "id": "2caa9f76-8c59-4698-a021-7e8bd8ab8dd4",
   "metadata": {},
   "source": [
    "### 4. Zindi completition "
   ]
  },
  {
   "cell_type": "code",
   "execution_count": 36,
   "id": "1efa2d30-7f50-4233-ad53-79e4d7f5b35c",
   "metadata": {},
   "outputs": [
    {
     "name": "stdout",
     "output_type": "stream",
     "text": [
      "[1] \"File Saved\"\n"
     ]
    }
   ],
   "source": [
    "test_data <- as.data.frame(test_data)\n",
    "test_x <- as.matrix(select(test_data, -target))\n",
    "predictions <- predict(lgb_model, test_x)\n",
    "# predictions <- round(predictions) # Option to round the predictions\n",
    "predictions_df <- data.frame(\n",
    "  \"Place_ID X Date\" = tail(data,length(predictions))$Place_ID.X.Date,\n",
    "  target = predictions\n",
    ")\n",
    "\n",
    "if (all(dim(predictions_df) == c(16136, 2))) {\n",
    "    write.csv(predictions_df, \"predictions.csv\", row.names = FALSE)\n",
    "    print(\"File Saved\")\n",
    "} else {\n",
    "  print(\"Output format is not correct\")\n",
    "}"
   ]
  },
  {
   "cell_type": "markdown",
   "id": "f5b9de70-22f4-43c9-addf-955445add789",
   "metadata": {},
   "source": [
    "The results obtained using the final LGB model were uploaded on Zindi and gave us a RMSD of 31.62746413. a quite good result placing us in the position 75 of the competition."
   ]
  },
  {
   "cell_type": "markdown",
   "id": "28c56024-70a1-4b67-afe0-0c8e730041ce",
   "metadata": {},
   "source": [
    "### 5. ranking of the features"
   ]
  },
  {
   "cell_type": "markdown",
   "id": "9ac6ad1e-0f96-4efa-a120-ac5b7e349508",
   "metadata": {},
   "source": []
  },
  {
   "cell_type": "markdown",
   "id": "526ab457-de89-41be-a558-209da763fe77",
   "metadata": {},
   "source": [
    "## Competition results"
   ]
  },
  {
   "cell_type": "markdown",
   "id": "0d84b16f-eb4a-4fae-aab9-bff2070fadc3",
   "metadata": {},
   "source": []
  },
  {
   "cell_type": "markdown",
   "id": "371e57bd-54df-4344-b023-ad517813a8ab",
   "metadata": {},
   "source": [
    "## Further implementations to increase the score"
   ]
  },
  {
   "cell_type": "code",
   "execution_count": null,
   "id": "43cc8500-0846-481f-ae0c-56984757609f",
   "metadata": {},
   "outputs": [],
   "source": []
  }
 ],
 "metadata": {
  "kernelspec": {
   "display_name": "R",
   "language": "R",
   "name": "ir"
  },
  "language_info": {
   "codemirror_mode": "r",
   "file_extension": ".r",
   "mimetype": "text/x-r-source",
   "name": "R",
   "pygments_lexer": "r",
   "version": "4.3.2"
  }
 },
 "nbformat": 4,
 "nbformat_minor": 5
}
