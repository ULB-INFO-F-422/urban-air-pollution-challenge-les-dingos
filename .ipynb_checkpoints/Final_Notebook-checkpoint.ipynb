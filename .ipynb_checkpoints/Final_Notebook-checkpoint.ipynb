{
 "cells": [
  {
   "cell_type": "markdown",
   "id": "f51e4af1-f39f-40cf-8f70-2ece0a74d81e",
   "metadata": {},
   "source": [
    "# INFO-F-422 Project 23-24 : Zindi: - Urban Air Pollution Challenge - "
   ]
  },
  {
   "cell_type": "markdown",
   "id": "2fd5f498-db42-4790-870e-b62a632ec13b",
   "metadata": {},
   "source": [
    "## Description of the Project"
   ]
  },
  {
   "cell_type": "markdown",
   "id": "d21a2e5e-59c7-43c9-a28c-a0ece6c2ac61",
   "metadata": {},
   "source": []
  },
  {
   "cell_type": "markdown",
   "id": "639e4e44-c952-41e8-ab9d-4fae3fc23264",
   "metadata": {},
   "source": [
    "### Problem"
   ]
  },
  {
   "cell_type": "markdown",
   "id": "b77c0db5-7273-4323-b1f5-b636137fcc53",
   "metadata": {},
   "source": []
  },
  {
   "cell_type": "markdown",
   "id": "e82445a0-461f-4e08-b820-336404535108",
   "metadata": {},
   "source": [
    "### Data"
   ]
  },
  {
   "cell_type": "markdown",
   "id": "f9afae49-b9f5-4e96-b6aa-66129293a74b",
   "metadata": {},
   "source": []
  },
  {
   "cell_type": "markdown",
   "id": "cf2208c3-b278-468a-a621-bb411659796e",
   "metadata": {},
   "source": [
    "### scoring metric"
   ]
  },
  {
   "cell_type": "markdown",
   "id": "ad06d0ec-8ea9-4560-9375-5bf434d6a3ea",
   "metadata": {},
   "source": []
  },
  {
   "cell_type": "markdown",
   "id": "bf2cfe18-ddb6-4322-b748-99a89e167e50",
   "metadata": {},
   "source": [
    "## Tasks"
   ]
  },
  {
   "cell_type": "markdown",
   "id": "2d00a1c4-75da-4ef8-a4a7-fd3c9d587ce0",
   "metadata": {
    "jp-MarkdownHeadingCollapsed": true
   },
   "source": [
    "### Packages"
   ]
  },
  {
   "cell_type": "code",
   "execution_count": 29,
   "id": "16551485-60b3-48a6-85ab-c480e24b7f1a",
   "metadata": {},
   "outputs": [],
   "source": [
    "library(dplyr)\n",
    "library(randomForest)\n",
    "library(ggplot2)\n",
    "library(RSNNS)\n",
    "library(e1071)\n",
    "library(xgboost)\n",
    "library(keras)\n",
    "library(repr)\n",
    "library(caret)\n",
    "library(lubridate)\n",
    "library(VIM)\n",
    "library(lightgbm)\n",
    "\n",
    "options(repr.matrix.max.cols=500, repr.matrix.max.rows=200)\n",
    "#set.seed(42)"
   ]
  },
  {
   "cell_type": "markdown",
   "id": "9c8bbcd2-6c54-48d5-aa70-6a115065909e",
   "metadata": {},
   "source": [
    "### 1. Pipeline\n",
    "This section will contain a few functions that can be called to modify, complete or create new features.`\n",
    "\n",
    "These Functions can then after be called easilly to try different combinations."
   ]
  },
  {
   "cell_type": "markdown",
   "id": "e49405ff-7a5f-45bb-92f3-f3afd69528eb",
   "metadata": {},
   "source": [
    "#### Data importation & Feature selection"
   ]
  },
  {
   "cell_type": "code",
   "execution_count": 68,
   "id": "4908415b-2aab-4325-a1d4-3db387934d09",
   "metadata": {},
   "outputs": [],
   "source": [
    "get_train_data <- function() {\n",
    "    train_df <- read.csv(\"Data/Train.csv\")\n",
    "    train_df <- train_df %>% \n",
    "        select(-\"target_min\", -\"target_max\",-\"target_variance\",-\"target_count\")\n",
    "    return(train_df)\n",
    "}"
   ]
  },
  {
   "cell_type": "code",
   "execution_count": 82,
   "id": "d5753a00-2be1-4005-afbc-e63edca7c6ce",
   "metadata": {},
   "outputs": [],
   "source": [
    "get_test_data <- function() {\n",
    "    train_df <- read.csv(\"Data/Test.csv\")\n",
    "    return(train_df)\n",
    "}"
   ]
  },
  {
   "cell_type": "markdown",
   "id": "df2c0307-cb37-4c96-8994-687472cfe836",
   "metadata": {},
   "source": [
    "#### Missing value imputation"
   ]
  },
  {
   "cell_type": "code",
   "execution_count": 8,
   "id": "93bd68e0-0a4b-453e-a31d-027e0415bae0",
   "metadata": {},
   "outputs": [],
   "source": [
    "# Drop na's\n",
    "drop_na <- function(data) {\n",
    "    data_clean <- data[, colSums(is.na(data)) == 0]\n",
    "    return(data_clean)\n",
    "}"
   ]
  },
  {
   "cell_type": "code",
   "execution_count": 9,
   "id": "0ca2c9d8-b6ec-46b3-b3a2-614304fcecae",
   "metadata": {},
   "outputs": [],
   "source": [
    "# Replace na's by mean\n",
    "na_to_mean <- function(data) {\n",
    "    data_clean <- data %>%\n",
    "        mutate(across(everything(), ~ifelse(is.na(.), mean(., na.rm = TRUE), .)))\n",
    "    return(data_clean)\n",
    "}"
   ]
  },
  {
   "cell_type": "code",
   "execution_count": 10,
   "id": "78b0383f-a724-492b-8b2f-a8589103f211",
   "metadata": {},
   "outputs": [],
   "source": [
    "# Replace na's by median\n",
    "na_to_median <- function(data) {\n",
    "    data_clean <- data %>%\n",
    "        mutate(across(everything(), ~ifelse(is.na(.), median(., na.rm = TRUE), .)))\n",
    "    return(data_clean)\n",
    "}"
   ]
  },
  {
   "cell_type": "code",
   "execution_count": 57,
   "id": "a76e659f-570c-462c-8d7b-c3ef80b65c9a",
   "metadata": {},
   "outputs": [],
   "source": [
    "# Replace NA's by the median by Place_ID\n",
    "na_to_median_by_location <- function(data) {\n",
    "    # Step 1: Replace NA's within each Place_ID group\n",
    "    data_clean <- data %>%\n",
    "        group_by(Place_ID) %>%\n",
    "        mutate(across(where(is.numeric), ~ifelse(is.na(.), median(., na.rm = TRUE), .))) %>%\n",
    "        ungroup()\n",
    "\n",
    "    # Step 2: Calculate global medians for each numeric column\n",
    "    global_medians <- data %>%\n",
    "        summarize(across(where(is.numeric), median, na.rm = TRUE)) %>%\n",
    "        unlist()\n",
    "    \n",
    "    # Step 3: Replace remaining NA's with global medians\n",
    "    data_clean <- data_clean %>%\n",
    "        mutate(across(where(is.numeric), ~ifelse(is.na(.), global_medians[cur_column()], .)))\n",
    "\n",
    "    return(data_clean)\n",
    "}\n"
   ]
  },
  {
   "cell_type": "markdown",
   "id": "f417168b-0b59-441b-8e21-6afbd950ca53",
   "metadata": {},
   "source": [
    "#### Normalization"
   ]
  },
  {
   "cell_type": "code",
   "execution_count": 12,
   "id": "e24d1d11-d12a-4b08-b833-bf50a39c3578",
   "metadata": {},
   "outputs": [],
   "source": [
    "#Function that will normalize all the columns\n",
    "normalize <- function(x) {\n",
    "  (x - min(x, na.rm = TRUE)) / (max(x, na.rm = TRUE) - min(x, na.rm = TRUE))\n",
    "}"
   ]
  },
  {
   "cell_type": "markdown",
   "id": "3c9eda2a-e79f-4fab-ad7b-8ad5aa990537",
   "metadata": {},
   "source": [
    "#### Feature engineering"
   ]
  },
  {
   "cell_type": "code",
   "execution_count": 19,
   "id": "d95250e8-da5f-4738-b793-ea6d9df5fdb6",
   "metadata": {},
   "outputs": [],
   "source": [
    "# Add columns for day, mounth, year, day of the week and if it is weekend or not.\n",
    "add_time <- function(data) {\n",
    "    data <- data %>%\n",
    "        mutate(day = day(Date),\n",
    "               month = month(Date),\n",
    "               year = year(Date),\n",
    "               day_of_week = wday(Date),\n",
    "               s_weekend = as.integer(wday(Date) %in% c(6, 7)))\n",
    "    data <- data %>%\n",
    "        group_by(Place_ID) %>%\n",
    "        mutate(placeID_freq = n()) %>%\n",
    "        ungroup()\n",
    "\n",
    "    return(data)\n",
    "}"
   ]
  },
  {
   "cell_type": "code",
   "execution_count": 20,
   "id": "76fc1f0f-48b1-4fca-99b5-040d2903ee89",
   "metadata": {},
   "outputs": [],
   "source": [
    "# Function to add lag, lead of all the columns enabeling it to see what was before and after\n",
    "add_lag_lead <- function(data, days) {\n",
    "    # Features: Excluding specific columns from the dataset\n",
    "    features <- setdiff(names(data), c(\"Date\", \"target_count\", \"target_min\", \"Place_ID X Date\", \"target_variance\", \"target_max\", \"Place_ID.X.Date\", \"target\"))\n",
    "    \n",
    "    numeric_features <- sapply(data, is.numeric)\n",
    "    features <- names(numeric_features[numeric_features == TRUE])\n",
    "    features <- setdiff(features, c(\"target\", \"Place_ID.X.Date\", \"Date\"))\n",
    "    \n",
    "    # Wrap operations in a group_by() without arranging\n",
    "    data <- data %>%\n",
    "        group_by(Place_ID) %>%\n",
    "        mutate(across(all_of(features), ~lag(.x, 1), .names = \"prev_{.col}_1\"),\n",
    "               across(all_of(features), ~lead(.x, 1), .names = \"next_{.col}_1\")) %>%\n",
    "        ungroup()  # Return to regular data frame operation without groups\n",
    "    \n",
    "    # Now create the difference features\n",
    "    for (i in 1:days) {\n",
    "        # Creating difference features for lag\n",
    "        data <- data %>%\n",
    "            group_by(Place_ID) %>%\n",
    "            mutate(across(all_of(features), ~. - lag(., i), .names = paste0(\"prev_{.col}_\", i+1))) %>%\n",
    "            ungroup()\n",
    "        \n",
    "        # Creating difference features for lead\n",
    "        data <- data %>%\n",
    "            group_by(Place_ID) %>%\n",
    "            mutate(across(all_of(features), ~. - lead(., i), .names = paste0(\"next_{.col}_\", i+1))) %>%\n",
    "            ungroup()\n",
    "    }\n",
    "    \n",
    "    # Replace NA values in numeric columns with 0\n",
    "    numeric_columns <- sapply(data, is.numeric)\n",
    "    data[numeric_columns] <- lapply(data[numeric_columns], function(x) replace(x, is.na(x), 0))\n",
    "    \n",
    "    return(data)\n",
    "}\n"
   ]
  },
  {
   "cell_type": "markdown",
   "id": "dba44773-9e35-4185-86e2-cd6d9ea86484",
   "metadata": {},
   "source": [
    "#### Divide train / validation set"
   ]
  },
  {
   "cell_type": "code",
   "execution_count": 22,
   "id": "018c576a-1731-4488-9166-c348719dfacc",
   "metadata": {},
   "outputs": [],
   "source": [
    "# randomise stations in train and val by grouping the Place_ID's\n",
    "# This allows to not overfit with the test data that doesn't contain similar Place_ID's as the training data\n",
    "get_train_val <- function(data,rep) {\n",
    "    unique_place_ids <- unique(data$Place_ID)\n",
    "    shuffled_place_ids <- sample(unique_place_ids)\n",
    "    unique_place_ids <- unique(data$Place_ID)\n",
    "    shuffled_place_ids <- sample(unique_place_ids)\n",
    "    num_train <- round(length(shuffled_place_ids) * rep)\n",
    "    train_ids <- shuffled_place_ids[1:num_train]\n",
    "    val_ids <- shuffled_place_ids[(num_train + 1):length(shuffled_place_ids)]\n",
    "    train <- data[data$Place_ID %in% train_ids, ] %>% \n",
    "      select(-\"Place_ID\")\n",
    "    val <- data[data$Place_ID %in% val_ids, ] %>% \n",
    "      select(-\"Place_ID\")\n",
    "    return(list(train = train, val = val))\n",
    "}"
   ]
  },
  {
   "cell_type": "markdown",
   "id": "d38c43f0-4a8b-4a30-b3ed-5e11afabb4ea",
   "metadata": {},
   "source": [
    "#### Configuration grid example\n",
    "This allows to decide for each test which mission value imputation, normalization, feature engeneering and train_val repartition to use"
   ]
  },
  {
   "cell_type": "code",
   "execution_count": 38,
   "id": "54e1a69c-e785-4303-a658-1822f905c8ea",
   "metadata": {},
   "outputs": [],
   "source": [
    "train = get_train_data()\n",
    "test = get_test_data()\n",
    "data <- bind_rows(train, test)\n",
    "data <- na_to_median_by_location(data)\n",
    "data <- add_time(data)\n",
    "data <- add_lag_lead(data,10)\n",
    "features <- setdiff(names(data), c(\"Date\", \"Place_ID X Date\",\"Place_ID.X.Date\"))\n",
    "train_data <- data[1:nrow(train), features, drop = FALSE]\n",
    "test_data <- data[(nrow(train) + 1):nrow(data), features, drop = FALSE]\n",
    "data_train_val <- get_train_val(train_data ,0.8)"
   ]
  },
  {
   "cell_type": "markdown",
   "id": "33557cf1-87ee-4eca-979f-d074518b5743",
   "metadata": {},
   "source": [
    "#### Plot repartition of the data"
   ]
  },
  {
   "cell_type": "code",
   "execution_count": 39,
   "id": "3045fdf2-d8de-4095-a415-b24cd1984a6b",
   "metadata": {},
   "outputs": [
    {
     "data": {
      "image/png": "[encoded data removed]",
      "text/plain": [
       "plot without title"
      ]
     },
     "metadata": {
      "image/png": {
       "height": 120,
       "width": 600
      }
     },
     "output_type": "display_data"
    }
   ],
   "source": [
    "partition_sizes <- data.frame(\n",
    "  Partition = c(\"Train\", \"Validation\", \"Test\"),\n",
    "  Size = c(nrow(data_train_val$train), nrow(data_train_val$val), nrow(test_data))\n",
    ")\n",
    "\n",
    "# Plot the partition sizes\n",
    "options(repr.plot.width = 10, repr.plot.height = 2)\n",
    "ggplot(partition_sizes, aes(x = \"\", y = Size, fill = Partition)) +\n",
    "  geom_bar(stat = \"identity\", width = 1) +\n",
    "  coord_flip() +\n",
    "  geom_text(aes(label = Size), position = position_stack(vjust = 0.5)) +\n",
    "  theme_minimal() +\n",
    "  labs(title = \"Data Partition Sizes\", x = NULL, y = NULL) +\n",
    "  scale_fill_manual(values = c(\"Train\" = \"cornflowerblue\", \"Validation\" = \"coral\", \"Test\" = \"darkolivegreen3\")) +\n",
    "  theme(\n",
    "    axis.ticks = element_blank(), \n",
    "    axis.text.y = element_blank(),\n",
    "    aspect.ratio = 1/10 # Adjust the aspect ratio to make the plot shorter\n",
    "  )"
   ]
  },
  {
   "cell_type": "markdown",
   "id": "1e0b05bc-3b61-46a2-a650-030fa3ba8b1f",
   "metadata": {},
   "source": [
    "### 2. Model selection"
   ]
  },
  {
   "cell_type": "markdown",
   "id": "ef91d51d-8b03-4150-9a73-fbdb66b1c6b4",
   "metadata": {},
   "source": [
    "#### Neural Network"
   ]
  },
  {
   "cell_type": "markdown",
   "id": "d1adf667-0054-4821-873c-a16e33af474e",
   "metadata": {},
   "source": [
    "###### Configuration grid"
   ]
  },
  {
   "cell_type": "code",
   "execution_count": 97,
   "id": "1aadee3a-e553-4344-b69d-f2b41586495b",
   "metadata": {},
   "outputs": [],
   "source": [
    "train = get_train_data()\n",
    "test = get_test_data()\n",
    "data <- bind_rows(train, test)\n",
    "data <- na_to_median_by_location(data)\n",
    "#data\n",
    "data <- add_time(data)\n",
    "#data <- add_lag_lead(data,10)\n",
    "features <- setdiff(names(data), c(\"Date\", \"Place_ID.X.Date\"))\n",
    "train_data <- data[1:nrow(train), features, drop = FALSE]\n",
    "test_data <- data[(nrow(train) + 1):nrow(data), features, drop = FALSE]\n",
    "data_train_val <- get_train_val(train_data ,0.8)"
   ]
  },
  {
   "cell_type": "markdown",
   "id": "0a4d57ce-94cb-4bb4-b87c-33d1bf53edbe",
   "metadata": {},
   "source": [
    "###### implementation"
   ]
  },
  {
   "cell_type": "code",
   "execution_count": 95,
   "id": "978d41e6-3f0a-4841-b86f-d49e9fb717ae",
   "metadata": {},
   "outputs": [
    {
     "data": {
      "text/html": [
       "24551"
      ],
      "text/latex": [
       "24551"
      ],
      "text/markdown": [
       "24551"
      ],
      "text/plain": [
       "[1] 24551"
      ]
     },
     "metadata": {},
     "output_type": "display_data"
    }
   ],
   "source": [
    "sum(is.na(train_x))"
   ]
  },
  {
   "cell_type": "code",
   "execution_count": null,
   "id": "52c7c8b9-c510-4fd6-83c9-94278fce45ee",
   "metadata": {},
   "outputs": [],
   "source": [
    "train_x <- data_train_val$train %>% select(-c(target,Place_ID)) %>% as.matrix()\n",
    "train_y <- data_train_val$train$target\n",
    "\n",
    "val_x <- data_train_val$val %>% select(-target) %>% as.matrix()\n",
    "val_y <- data_train_val$val$target\n",
    "\n",
    "# Normalize the features (if necessary)\n",
    "# Here we standardize the data to have mean 0 and standard deviation 1\n",
    "train_x <- scale(train_x)\n",
    "val_x <- scale(val_x)"
   ]
  },
  {
   "cell_type": "code",
   "execution_count": 88,
   "id": "862129dc-1175-476d-b78b-70d917220af7",
   "metadata": {},
   "outputs": [
    {
     "data": {
      "text/html": [
       "24659"
      ],
      "text/latex": [
       "24659"
      ],
      "text/markdown": [
       "24659"
      ],
      "text/plain": [
       "[1] 24659"
      ]
     },
     "metadata": {},
     "output_type": "display_data"
    },
    {
     "data": {
      "text/html": [
       "0"
      ],
      "text/latex": [
       "0"
      ],
      "text/markdown": [
       "0"
      ],
      "text/plain": [
       "[1] 0"
      ]
     },
     "metadata": {},
     "output_type": "display_data"
    }
   ],
   "source": [
    "sum(is.na(train_x))\n",
    "sum(is.na(train_y))"
   ]
  },
  {
   "cell_type": "code",
   "execution_count": 50,
   "id": "e467e73d-4a2c-4f27-8455-5778a4cffc2b",
   "metadata": {},
   "outputs": [
    {
     "name": "stdout",
     "output_type": "stream",
     "text": [
      "               loss mean_absolute_error \n",
      "                NaN                 NaN \n"
     ]
    }
   ],
   "source": [
    "create_nn_model <- function(input_shape) {\n",
    "  nn_model <- keras_model_sequential() %>%\n",
    "    layer_dense(units = 128, activation = 'relu', input_shape = input_shape) %>%\n",
    "    layer_dense(units = 128, activation = 'relu') %>%\n",
    "    layer_dense(units = 128, activation = 'relu') %>%\n",
    "    layer_dense(units = 1)\n",
    "  \n",
    "  nn_model %>% compile(\n",
    "    loss = 'mse',  # Mean Squared Error for regression\n",
    "    optimizer = 'adam',  # Adaptive moment estimation\n",
    "    metrics = c('mean_absolute_error')\n",
    "  )\n",
    "  \n",
    "  return(nn_model)\n",
    "}\n",
    "\n",
    "# Create the model\n",
    "input_shape <- ncol(train_x)\n",
    "model <- create_nn_model(input_shape)\n",
    "\n",
    "# Train the model\n",
    "history <- model %>% fit(\n",
    "  train_x, train_y,\n",
    "  epochs = 100,\n",
    "  batch_size = 32,\n",
    "  validation_split = 0.2\n",
    ")\n",
    "\n",
    "# Evaluate the model on the test data\n",
    "evaluation <- model %>% evaluate(val_x, val_y)\n",
    "print(evaluation)"
   ]
  },
  {
   "cell_type": "markdown",
   "id": "00b7650c-b120-4d95-9879-ad1c6ee515d9",
   "metadata": {},
   "source": [
    "### 3. Other model implementation"
   ]
  },
  {
   "cell_type": "markdown",
   "id": "bb5231ef-b761-4925-babd-ec065e4f64c3",
   "metadata": {},
   "source": []
  },
  {
   "cell_type": "markdown",
   "id": "2caa9f76-8c59-4698-a021-7e8bd8ab8dd4",
   "metadata": {},
   "source": [
    "### 4."
   ]
  },
  {
   "cell_type": "markdown",
   "id": "f5b9de70-22f4-43c9-addf-955445add789",
   "metadata": {},
   "source": []
  },
  {
   "cell_type": "markdown",
   "id": "28c56024-70a1-4b67-afe0-0c8e730041ce",
   "metadata": {},
   "source": [
    "### 5."
   ]
  },
  {
   "cell_type": "markdown",
   "id": "9ac6ad1e-0f96-4efa-a120-ac5b7e349508",
   "metadata": {},
   "source": []
  },
  {
   "cell_type": "markdown",
   "id": "526ab457-de89-41be-a558-209da763fe77",
   "metadata": {},
   "source": [
    "## Competition results"
   ]
  },
  {
   "cell_type": "markdown",
   "id": "0d84b16f-eb4a-4fae-aab9-bff2070fadc3",
   "metadata": {},
   "source": []
  },
  {
   "cell_type": "markdown",
   "id": "371e57bd-54df-4344-b023-ad517813a8ab",
   "metadata": {},
   "source": [
    "## Further implementations to increase the score"
   ]
  },
  {
   "cell_type": "code",
   "execution_count": null,
   "id": "43cc8500-0846-481f-ae0c-56984757609f",
   "metadata": {},
   "outputs": [],
   "source": []
  }
 ],
 "metadata": {
  "kernelspec": {
   "display_name": "R",
   "language": "R",
   "name": "ir"
  },
  "language_info": {
   "codemirror_mode": "r",
   "file_extension": ".r",
   "mimetype": "text/x-r-source",
   "name": "R",
   "pygments_lexer": "r",
   "version": "4.3.2"
  }
 },
 "nbformat": 4,
 "nbformat_minor": 5
}
